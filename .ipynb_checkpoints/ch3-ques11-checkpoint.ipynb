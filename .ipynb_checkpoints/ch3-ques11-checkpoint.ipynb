{
 "cells": [
  {
   "cell_type": "code",
   "execution_count": 1,
   "metadata": {},
   "outputs": [],
   "source": [
    "import numpy as np\n",
    "from matplotlib import pyplot as plt\n",
    "import pandas as pd\n",
    "import statsmodels.api as sm\n",
    "%matplotlib inline\n",
    "plt.style.use('ggplot')"
   ]
  },
  {
   "cell_type": "code",
   "execution_count": 2,
   "metadata": {},
   "outputs": [
    {
     "data": {
      "text/plain": [
       "<matplotlib.collections.PathCollection at 0x1b91c2b8370>"
      ]
     },
     "execution_count": 2,
     "metadata": {},
     "output_type": "execute_result"
    },
    {
     "data": {
      "image/png": "[encoded data removed]",
      "text/plain": [
       "<Figure size 360x360 with 1 Axes>"
      ]
     },
     "metadata": {},
     "output_type": "display_data"
    }
   ],
   "source": [
    "np.random.seed(1)\n",
    "X=np.random.randn(100)\n",
    "y=2*X+np.random.randn(100)\n",
    "fig,ax=plt.subplots(figsize=(5,5))\n",
    "ax.scatter(y,X,facecolors='none',edgecolors='#d44000')"
   ]
  },
  {
   "cell_type": "code",
   "execution_count": 15,
   "metadata": {},
   "outputs": [
    {
     "name": "stdout",
     "output_type": "stream",
     "text": [
      "                                 OLS Regression Results                                \n",
      "=======================================================================================\n",
      "Dep. Variable:                      y   R-squared (uncentered):                   0.798\n",
      "Model:                            OLS   Adj. R-squared (uncentered):              0.796\n",
      "Method:                 Least Squares   F-statistic:                              391.7\n",
      "Date:                Thu, 08 Apr 2021   Prob (F-statistic):                    3.46e-36\n",
      "Time:                        12:20:09   Log-Likelihood:                         -135.67\n",
      "No. Observations:                 100   AIC:                                      273.3\n",
      "Df Residuals:                      99   BIC:                                      275.9\n",
      "Df Model:                           1                                                  \n",
      "Covariance Type:            nonrobust                                                  \n",
      "==============================================================================\n",
      "                 coef    std err          t      P>|t|      [0.025      0.975]\n",
      "------------------------------------------------------------------------------\n",
      "x1             2.1067      0.106     19.792      0.000       1.896       2.318\n",
      "==============================================================================\n",
      "Omnibus:                        0.880   Durbin-Watson:                   2.106\n",
      "Prob(Omnibus):                  0.644   Jarque-Bera (JB):                0.554\n",
      "Skew:                          -0.172   Prob(JB):                        0.758\n",
      "Kurtosis:                       3.119   Cond. No.                         1.00\n",
      "==============================================================================\n",
      "\n",
      "Notes:\n",
      "[1] R² is computed without centering (uncentered) since the model does not contain a constant.\n",
      "[2] Standard Errors assume that the covariance matrix of the errors is correctly specified.\n"
     ]
    }
   ],
   "source": [
    "model=sm.OLS(y,X)\n",
    "est=model.fit()\n",
    "print(est.summary())\n",
    "# coefficient= 2.1067, t-statistic is 19.792 and p is approx. 0. Since p<0.05, we must reject the null hypothesis.\n"
   ]
  },
  {
   "cell_type": "code",
   "execution_count": 4,
   "metadata": {},
   "outputs": [
    {
     "name": "stdout",
     "output_type": "stream",
     "text": [
      "                                 OLS Regression Results                                \n",
      "=======================================================================================\n",
      "Dep. Variable:                      y   R-squared (uncentered):                   0.798\n",
      "Model:                            OLS   Adj. R-squared (uncentered):              0.796\n",
      "Method:                 Least Squares   F-statistic:                              391.7\n",
      "Date:                Tue, 13 Apr 2021   Prob (F-statistic):                    3.46e-36\n",
      "Time:                        11:04:15   Log-Likelihood:                         -49.891\n",
      "No. Observations:                 100   AIC:                                      101.8\n",
      "Df Residuals:                      99   BIC:                                      104.4\n",
      "Df Model:                           1                                                  \n",
      "Covariance Type:            nonrobust                                                  \n",
      "==============================================================================\n",
      "                 coef    std err          t      P>|t|      [0.025      0.975]\n",
      "------------------------------------------------------------------------------\n",
      "x1             0.3789      0.019     19.792      0.000       0.341       0.417\n",
      "==============================================================================\n",
      "Omnibus:                        0.476   Durbin-Watson:                   2.166\n",
      "Prob(Omnibus):                  0.788   Jarque-Bera (JB):                0.631\n",
      "Skew:                           0.115   Prob(JB):                        0.729\n",
      "Kurtosis:                       2.685   Cond. No.                         1.00\n",
      "==============================================================================\n",
      "\n",
      "Notes:\n",
      "[1] R² is computed without centering (uncentered) since the model does not contain a constant.\n",
      "[2] Standard Errors assume that the covariance matrix of the errors is correctly specified.\n"
     ]
    }
   ],
   "source": [
    "model=sm.OLS(X,y)\n",
    "est=model.fit()\n",
    "print(est.summary())\n",
    "# the t-statistic and p value are the same for both the models\n",
    "# the coefficient estimate now is 0.3789\n"
   ]
  },
  {
   "cell_type": "code",
   "execution_count": 8,
   "metadata": {},
   "outputs": [
    {
     "name": "stdout",
     "output_type": "stream",
     "text": [
      "                            OLS Regression Results                            \n",
      "==============================================================================\n",
      "Dep. Variable:                      y   R-squared:                       0.800\n",
      "Model:                            OLS   Adj. R-squared:                  0.798\n",
      "Method:                 Least Squares   F-statistic:                     391.4\n",
      "Date:                Tue, 13 Apr 2021   Prob (F-statistic):           5.39e-36\n",
      "Time:                        11:06:05   Log-Likelihood:                -134.44\n",
      "No. Observations:                 100   AIC:                             272.9\n",
      "Df Residuals:                      98   BIC:                             278.1\n",
      "Df Model:                           1                                         \n",
      "Covariance Type:            nonrobust                                         \n",
      "==============================================================================\n",
      "                 coef    std err          t      P>|t|      [0.025      0.975]\n",
      "------------------------------------------------------------------------------\n",
      "const          0.1470      0.094      1.564      0.121      -0.039       0.334\n",
      "x1             2.0954      0.106     19.783      0.000       1.885       2.306\n",
      "==============================================================================\n",
      "Omnibus:                        0.898   Durbin-Watson:                   2.157\n",
      "Prob(Omnibus):                  0.638   Jarque-Bera (JB):                0.561\n",
      "Skew:                          -0.172   Prob(JB):                        0.755\n",
      "Kurtosis:                       3.127   Cond. No.                         1.15\n",
      "==============================================================================\n",
      "\n",
      "Notes:\n",
      "[1] Standard Errors assume that the covariance matrix of the errors is correctly specified.\n"
     ]
    }
   ],
   "source": [
    "# model with intercept\n",
    "\n",
    "# y onto x\n",
    "x1=sm.add_constant(X)\n",
    "model1=sm.OLS(y,x1)\n",
    "print(model1.fit().summary())"
   ]
  },
  {
   "cell_type": "code",
   "execution_count": 10,
   "metadata": {},
   "outputs": [
    {
     "name": "stdout",
     "output_type": "stream",
     "text": [
      "                            OLS Regression Results                            \n",
      "==============================================================================\n",
      "Dep. Variable:                      y   R-squared:                       0.800\n",
      "Model:                            OLS   Adj. R-squared:                  0.798\n",
      "Method:                 Least Squares   F-statistic:                     391.4\n",
      "Date:                Tue, 13 Apr 2021   Prob (F-statistic):           5.39e-36\n",
      "Time:                        11:07:31   Log-Likelihood:                -49.289\n",
      "No. Observations:                 100   AIC:                             102.6\n",
      "Df Residuals:                      98   BIC:                             107.8\n",
      "Df Model:                           1                                         \n",
      "Covariance Type:            nonrobust                                         \n",
      "==============================================================================\n",
      "                 coef    std err          t      P>|t|      [0.025      0.975]\n",
      "------------------------------------------------------------------------------\n",
      "const         -0.0440      0.040     -1.090      0.279      -0.124       0.036\n",
      "x1             0.3817      0.019     19.783      0.000       0.343       0.420\n",
      "==============================================================================\n",
      "Omnibus:                        0.456   Durbin-Watson:                   2.192\n",
      "Prob(Omnibus):                  0.796   Jarque-Bera (JB):                0.611\n",
      "Skew:                           0.118   Prob(JB):                        0.737\n",
      "Kurtosis:                       2.698   Cond. No.                         2.12\n",
      "==============================================================================\n",
      "\n",
      "Notes:\n",
      "[1] Standard Errors assume that the covariance matrix of the errors is correctly specified.\n"
     ]
    }
   ],
   "source": [
    "# x onto y\n",
    "y2=sm.add_constant(y)\n",
    "model2=sm.OLS(X,y2)\n",
    "print(model2.fit().summary())\n",
    "# from both the models we can see that the t-statistic for beta1 =0 is the same."
   ]
  }
 ],
 "metadata": {
  "kernelspec": {
   "display_name": "Python 3",
   "language": "python",
   "name": "python3"
  },
  "language_info": {
   "codemirror_mode": {
    "name": "ipython",
    "version": 3
   },
   "file_extension": ".py",
   "mimetype": "text/x-python",
   "name": "python",
   "nbconvert_exporter": "python",
   "pygments_lexer": "ipython3",
   "version": "3.8.5"
  }
 },
 "nbformat": 4,
 "nbformat_minor": 4
}
