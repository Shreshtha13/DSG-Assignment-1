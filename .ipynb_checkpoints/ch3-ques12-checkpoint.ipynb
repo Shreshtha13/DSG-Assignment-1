{
 "cells": [
  {
   "cell_type": "code",
   "execution_count": 2,
   "metadata": {},
   "outputs": [],
   "source": [
    "import numpy as np\n",
    "from matplotlib import pyplot as plt\n",
    "import pandas as pd\n",
    "import statsmodels.api as sm\n",
    "%matplotlib inline\n",
    "plt.style.use('ggplot')"
   ]
  },
  {
   "cell_type": "code",
   "execution_count": 13,
   "metadata": {},
   "outputs": [
    {
     "name": "stdout",
     "output_type": "stream",
     "text": [
      "Coefficient1 is [-0.01353153]\n",
      "Coefficient2 is [-0.01353153]\n"
     ]
    }
   ],
   "source": [
    "# coefficient estimate is the same when sum of squares are same\n",
    "np.random.seed(0)\n",
    "x=np.random.randn(100)\n",
    "y=np.random.choice(x,100,replace=False)\n",
    "model1=sm.OLS(y,x)\n",
    "est1=model1.fit()\n",
    "print('Coefficient1 is',est1.params)\n",
    "model2=sm.OLS(x,y)\n",
    "est2=model2.fit()\n",
    "print('Coefficient2 is',est2.params)\n"
   ]
  },
  {
   "cell_type": "code",
   "execution_count": 15,
   "metadata": {},
   "outputs": [
    {
     "name": "stdout",
     "output_type": "stream",
     "text": [
      "[-0.26112981]\n",
      "[-0.01353153]\n"
     ]
    }
   ],
   "source": [
    "# when coefficients are different\n",
    "x=np.random.randn(100)\n",
    "y=np.random.randn(100)*x\n",
    "model11=sm.OLS(y,x)\n",
    "print(model11.fit().params)\n",
    "model12=sm.OLS(x,y)\n",
    "print(model2.fit().params)\n"
   ]
  }
 ],
 "metadata": {
  "kernelspec": {
   "display_name": "Python 3",
   "language": "python",
   "name": "python3"
  },
  "language_info": {
   "codemirror_mode": {
    "name": "ipython",
    "version": 3
   },
   "file_extension": ".py",
   "mimetype": "text/x-python",
   "name": "python",
   "nbconvert_exporter": "python",
   "pygments_lexer": "ipython3",
   "version": "3.8.5"
  }
 },
 "nbformat": 4,
 "nbformat_minor": 4
}
