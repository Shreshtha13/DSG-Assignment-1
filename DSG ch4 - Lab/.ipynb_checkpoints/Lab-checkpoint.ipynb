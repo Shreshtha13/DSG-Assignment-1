{
 "cells": [
  {
   "cell_type": "code",
   "execution_count": 2,
   "metadata": {},
   "outputs": [
    {
     "name": "stdout",
     "output_type": "stream",
     "text": [
      "             Lag1   Lag2   Lag3   Lag4   Lag5   Volume  Today Direction\n",
      "Year                                                                   \n",
      "2001-01-01  0.381 -0.192 -2.624 -1.055  5.010  1.19130  0.959        Up\n",
      "2001-01-01  0.959  0.381 -0.192 -2.624 -1.055  1.29650  1.032        Up\n",
      "2001-01-01  1.032  0.959  0.381 -0.192 -2.624  1.41120 -0.623      Down\n",
      "2001-01-01 -0.623  1.032  0.959  0.381 -0.192  1.27600  0.614        Up\n",
      "2001-01-01  0.614 -0.623  1.032  0.959  0.381  1.20570  0.213        Up\n",
      "...           ...    ...    ...    ...    ...      ...    ...       ...\n",
      "2005-01-01  0.422  0.252 -0.024 -0.584 -0.285  1.88850  0.043        Up\n",
      "2005-01-01  0.043  0.422  0.252 -0.024 -0.584  1.28581 -0.955      Down\n",
      "2005-01-01 -0.955  0.043  0.422  0.252 -0.024  1.54047  0.130        Up\n",
      "2005-01-01  0.130 -0.955  0.043  0.422  0.252  1.42236 -0.298      Down\n",
      "2005-01-01 -0.298  0.130 -0.955  0.043  0.422  1.38254 -0.489      Down\n",
      "\n",
      "[1250 rows x 8 columns]\n"
     ]
    }
   ],
   "source": [
    "import pandas as pd\n",
    "import numpy as np\n",
    "import statsmodels.api as sm\n",
    "import statsmodels.formula.api as smf\n",
    "df = pd.read_csv('datasets/smarket.csv', index_col=0 , parse_dates=True)\n",
    "print(df)\n"
   ]
  },
  {
   "cell_type": "code",
   "execution_count": 3,
   "metadata": {},
   "outputs": [
    {
     "data": {
      "text/html": [
       "<div>\n",
       "<style scoped>\n",
       "    .dataframe tbody tr th:only-of-type {\n",
       "        vertical-align: middle;\n",
       "    }\n",
       "\n",
       "    .dataframe tbody tr th {\n",
       "        vertical-align: top;\n",
       "    }\n",
       "\n",
       "    .dataframe thead th {\n",
       "        text-align: right;\n",
       "    }\n",
       "</style>\n",
       "<table border=\"1\" class=\"dataframe\">\n",
       "  <thead>\n",
       "    <tr style=\"text-align: right;\">\n",
       "      <th></th>\n",
       "      <th>Lag1</th>\n",
       "      <th>Lag2</th>\n",
       "      <th>Lag3</th>\n",
       "      <th>Lag4</th>\n",
       "      <th>Lag5</th>\n",
       "      <th>Volume</th>\n",
       "      <th>Today</th>\n",
       "    </tr>\n",
       "  </thead>\n",
       "  <tbody>\n",
       "    <tr>\n",
       "      <th>count</th>\n",
       "      <td>1250.000000</td>\n",
       "      <td>1250.000000</td>\n",
       "      <td>1250.000000</td>\n",
       "      <td>1250.000000</td>\n",
       "      <td>1250.00000</td>\n",
       "      <td>1250.000000</td>\n",
       "      <td>1250.000000</td>\n",
       "    </tr>\n",
       "    <tr>\n",
       "      <th>mean</th>\n",
       "      <td>0.003834</td>\n",
       "      <td>0.003919</td>\n",
       "      <td>0.001716</td>\n",
       "      <td>0.001636</td>\n",
       "      <td>0.00561</td>\n",
       "      <td>1.478305</td>\n",
       "      <td>0.003138</td>\n",
       "    </tr>\n",
       "    <tr>\n",
       "      <th>std</th>\n",
       "      <td>1.136299</td>\n",
       "      <td>1.136280</td>\n",
       "      <td>1.138703</td>\n",
       "      <td>1.138774</td>\n",
       "      <td>1.14755</td>\n",
       "      <td>0.360357</td>\n",
       "      <td>1.136334</td>\n",
       "    </tr>\n",
       "    <tr>\n",
       "      <th>min</th>\n",
       "      <td>-4.922000</td>\n",
       "      <td>-4.922000</td>\n",
       "      <td>-4.922000</td>\n",
       "      <td>-4.922000</td>\n",
       "      <td>-4.92200</td>\n",
       "      <td>0.356070</td>\n",
       "      <td>-4.922000</td>\n",
       "    </tr>\n",
       "    <tr>\n",
       "      <th>25%</th>\n",
       "      <td>-0.639500</td>\n",
       "      <td>-0.639500</td>\n",
       "      <td>-0.640000</td>\n",
       "      <td>-0.640000</td>\n",
       "      <td>-0.64000</td>\n",
       "      <td>1.257400</td>\n",
       "      <td>-0.639500</td>\n",
       "    </tr>\n",
       "    <tr>\n",
       "      <th>50%</th>\n",
       "      <td>0.039000</td>\n",
       "      <td>0.039000</td>\n",
       "      <td>0.038500</td>\n",
       "      <td>0.038500</td>\n",
       "      <td>0.03850</td>\n",
       "      <td>1.422950</td>\n",
       "      <td>0.038500</td>\n",
       "    </tr>\n",
       "    <tr>\n",
       "      <th>75%</th>\n",
       "      <td>0.596750</td>\n",
       "      <td>0.596750</td>\n",
       "      <td>0.596750</td>\n",
       "      <td>0.596750</td>\n",
       "      <td>0.59700</td>\n",
       "      <td>1.641675</td>\n",
       "      <td>0.596750</td>\n",
       "    </tr>\n",
       "    <tr>\n",
       "      <th>max</th>\n",
       "      <td>5.733000</td>\n",
       "      <td>5.733000</td>\n",
       "      <td>5.733000</td>\n",
       "      <td>5.733000</td>\n",
       "      <td>5.73300</td>\n",
       "      <td>3.152470</td>\n",
       "      <td>5.733000</td>\n",
       "    </tr>\n",
       "  </tbody>\n",
       "</table>\n",
       "</div>"
      ],
      "text/plain": [
       "              Lag1         Lag2         Lag3         Lag4        Lag5  \\\n",
       "count  1250.000000  1250.000000  1250.000000  1250.000000  1250.00000   \n",
       "mean      0.003834     0.003919     0.001716     0.001636     0.00561   \n",
       "std       1.136299     1.136280     1.138703     1.138774     1.14755   \n",
       "min      -4.922000    -4.922000    -4.922000    -4.922000    -4.92200   \n",
       "25%      -0.639500    -0.639500    -0.640000    -0.640000    -0.64000   \n",
       "50%       0.039000     0.039000     0.038500     0.038500     0.03850   \n",
       "75%       0.596750     0.596750     0.596750     0.596750     0.59700   \n",
       "max       5.733000     5.733000     5.733000     5.733000     5.73300   \n",
       "\n",
       "            Volume        Today  \n",
       "count  1250.000000  1250.000000  \n",
       "mean      1.478305     0.003138  \n",
       "std       0.360357     1.136334  \n",
       "min       0.356070    -4.922000  \n",
       "25%       1.257400    -0.639500  \n",
       "50%       1.422950     0.038500  \n",
       "75%       1.641675     0.596750  \n",
       "max       3.152470     5.733000  "
      ]
     },
     "execution_count": 3,
     "metadata": {},
     "output_type": "execute_result"
    }
   ],
   "source": [
    "df.describe()"
   ]
  },
  {
   "cell_type": "code",
   "execution_count": 4,
   "metadata": {},
   "outputs": [
    {
     "data": {
      "text/html": [
       "<div>\n",
       "<style scoped>\n",
       "    .dataframe tbody tr th:only-of-type {\n",
       "        vertical-align: middle;\n",
       "    }\n",
       "\n",
       "    .dataframe tbody tr th {\n",
       "        vertical-align: top;\n",
       "    }\n",
       "\n",
       "    .dataframe thead th {\n",
       "        text-align: right;\n",
       "    }\n",
       "</style>\n",
       "<table border=\"1\" class=\"dataframe\">\n",
       "  <thead>\n",
       "    <tr style=\"text-align: right;\">\n",
       "      <th></th>\n",
       "      <th>Lag1</th>\n",
       "      <th>Lag2</th>\n",
       "      <th>Lag3</th>\n",
       "      <th>Lag4</th>\n",
       "      <th>Lag5</th>\n",
       "      <th>Volume</th>\n",
       "      <th>Today</th>\n",
       "    </tr>\n",
       "  </thead>\n",
       "  <tbody>\n",
       "    <tr>\n",
       "      <th>Lag1</th>\n",
       "      <td>1.000000</td>\n",
       "      <td>-0.026294</td>\n",
       "      <td>-0.010803</td>\n",
       "      <td>-0.002986</td>\n",
       "      <td>-0.005675</td>\n",
       "      <td>0.040910</td>\n",
       "      <td>-0.026155</td>\n",
       "    </tr>\n",
       "    <tr>\n",
       "      <th>Lag2</th>\n",
       "      <td>-0.026294</td>\n",
       "      <td>1.000000</td>\n",
       "      <td>-0.025897</td>\n",
       "      <td>-0.010854</td>\n",
       "      <td>-0.003558</td>\n",
       "      <td>-0.043383</td>\n",
       "      <td>-0.010250</td>\n",
       "    </tr>\n",
       "    <tr>\n",
       "      <th>Lag3</th>\n",
       "      <td>-0.010803</td>\n",
       "      <td>-0.025897</td>\n",
       "      <td>1.000000</td>\n",
       "      <td>-0.024051</td>\n",
       "      <td>-0.018808</td>\n",
       "      <td>-0.041824</td>\n",
       "      <td>-0.002448</td>\n",
       "    </tr>\n",
       "    <tr>\n",
       "      <th>Lag4</th>\n",
       "      <td>-0.002986</td>\n",
       "      <td>-0.010854</td>\n",
       "      <td>-0.024051</td>\n",
       "      <td>1.000000</td>\n",
       "      <td>-0.027084</td>\n",
       "      <td>-0.048414</td>\n",
       "      <td>-0.006900</td>\n",
       "    </tr>\n",
       "    <tr>\n",
       "      <th>Lag5</th>\n",
       "      <td>-0.005675</td>\n",
       "      <td>-0.003558</td>\n",
       "      <td>-0.018808</td>\n",
       "      <td>-0.027084</td>\n",
       "      <td>1.000000</td>\n",
       "      <td>-0.022002</td>\n",
       "      <td>-0.034860</td>\n",
       "    </tr>\n",
       "    <tr>\n",
       "      <th>Volume</th>\n",
       "      <td>0.040910</td>\n",
       "      <td>-0.043383</td>\n",
       "      <td>-0.041824</td>\n",
       "      <td>-0.048414</td>\n",
       "      <td>-0.022002</td>\n",
       "      <td>1.000000</td>\n",
       "      <td>0.014592</td>\n",
       "    </tr>\n",
       "    <tr>\n",
       "      <th>Today</th>\n",
       "      <td>-0.026155</td>\n",
       "      <td>-0.010250</td>\n",
       "      <td>-0.002448</td>\n",
       "      <td>-0.006900</td>\n",
       "      <td>-0.034860</td>\n",
       "      <td>0.014592</td>\n",
       "      <td>1.000000</td>\n",
       "    </tr>\n",
       "  </tbody>\n",
       "</table>\n",
       "</div>"
      ],
      "text/plain": [
       "            Lag1      Lag2      Lag3      Lag4      Lag5    Volume     Today\n",
       "Lag1    1.000000 -0.026294 -0.010803 -0.002986 -0.005675  0.040910 -0.026155\n",
       "Lag2   -0.026294  1.000000 -0.025897 -0.010854 -0.003558 -0.043383 -0.010250\n",
       "Lag3   -0.010803 -0.025897  1.000000 -0.024051 -0.018808 -0.041824 -0.002448\n",
       "Lag4   -0.002986 -0.010854 -0.024051  1.000000 -0.027084 -0.048414 -0.006900\n",
       "Lag5   -0.005675 -0.003558 -0.018808 -0.027084  1.000000 -0.022002 -0.034860\n",
       "Volume  0.040910 -0.043383 -0.041824 -0.048414 -0.022002  1.000000  0.014592\n",
       "Today  -0.026155 -0.010250 -0.002448 -0.006900 -0.034860  0.014592  1.000000"
      ]
     },
     "execution_count": 4,
     "metadata": {},
     "output_type": "execute_result"
    }
   ],
   "source": [
    "df.corr(method = 'pearson')"
   ]
  },
  {
   "cell_type": "code",
   "execution_count": 5,
   "metadata": {},
   "outputs": [
    {
     "name": "stdout",
     "output_type": "stream",
     "text": [
      "                          Generalized Linear Model Regression Results                           \n",
      "================================================================================================\n",
      "Dep. Variable:     ['Direction[Down]', 'Direction[Up]']   No. Observations:                 1250\n",
      "Model:                                              GLM   Df Residuals:                     1243\n",
      "Model Family:                                  Binomial   Df Model:                            6\n",
      "Link Function:                                    logit   Scale:                          1.0000\n",
      "Method:                                            IRLS   Log-Likelihood:                -863.79\n",
      "Date:                                  Tue, 27 Apr 2021   Deviance:                       1727.6\n",
      "Time:                                          20:30:31   Pearson chi2:                 1.25e+03\n",
      "No. Iterations:                                       4                                         \n",
      "Covariance Type:                              nonrobust                                         \n",
      "==============================================================================\n",
      "                 coef    std err          z      P>|z|      [0.025      0.975]\n",
      "------------------------------------------------------------------------------\n",
      "Intercept      0.1260      0.241      0.523      0.601      -0.346       0.598\n",
      "Lag1           0.0731      0.050      1.457      0.145      -0.025       0.171\n",
      "Lag2           0.0423      0.050      0.845      0.398      -0.056       0.140\n",
      "Lag3          -0.0111      0.050     -0.222      0.824      -0.109       0.087\n",
      "Lag4          -0.0094      0.050     -0.187      0.851      -0.107       0.089\n",
      "Lag5          -0.0103      0.050     -0.208      0.835      -0.107       0.087\n",
      "Volume        -0.1354      0.158     -0.855      0.392      -0.446       0.175\n",
      "==============================================================================\n"
     ]
    }
   ],
   "source": [
    "model = smf.glm(formula = 'Direction ~ Lag1 + Lag2 + Lag3 + Lag4 + Lag5 + Volume', data=df, family=sm.families.Binomial())\n",
    "result = model.fit()\n",
    "print(result.summary())\n",
    "predictions = result.predict()\n",
    "# print(predictions)\n"
   ]
  },
  {
   "cell_type": "code",
   "execution_count": 6,
   "metadata": {},
   "outputs": [],
   "source": [
    "c=0\n",
    "predictions_up_down = []\n",
    "for i in predictions:\n",
    "    if(i<0.5):\n",
    "        predictions_up_down.append(\"Up\")\n",
    "    if(i>0.5):\n",
    "        predictions_up_down.append(\"Down\")\n",
    "        \n",
    "# for c in predictions_up_down:\n",
    "#     print(c)\n",
    "    \n",
    "  \n",
    "\n",
    "    "
   ]
  },
  {
   "cell_type": "code",
   "execution_count": 7,
   "metadata": {},
   "outputs": [
    {
     "name": "stdout",
     "output_type": "stream",
     "text": [
      "Predicted  Down   Up\n",
      "Actual              \n",
      "Down        145  457\n",
      "Up          141  507\n"
     ]
    }
   ],
   "source": [
    "data_confusion = {'y_real':df.Direction , 'y_pred':predictions_up_down}\n",
    "# print(data_confusion)\n",
    "\n",
    "df_confusion = pd.DataFrame(data_confusion, columns=['y_real','y_pred'])\n",
    "# print (df_confusion\n",
    "confusion_matrix = pd.crosstab(df_confusion['y_real'], df_confusion['y_pred'], rownames=['Actual'], colnames=['Predicted'])\n",
    "print (confusion_matrix)"
   ]
  },
  {
   "cell_type": "code",
   "execution_count": 8,
   "metadata": {},
   "outputs": [
    {
     "name": "stdout",
     "output_type": "stream",
     "text": [
      "Predicted  Down  Up\n",
      "Actual             \n",
      "Down         77  34\n",
      "Up           97  44\n"
     ]
    }
   ],
   "source": [
    "# training on data before 2005\n",
    "x_train = df[:'2004'][:]\n",
    "y_train = df[:'2004']['Direction']\n",
    "model_new = smf.glm(formula = 'Direction ~ Lag1 + Lag2 + Lag3 + Lag4 + Lag5 + Volume' , data = x_train , family = sm.families.Binomial())\n",
    "result_new = model_new.fit()\n",
    "\n",
    "# testing \n",
    "x_test = df['2005':][:]\n",
    "y_test = df['2005':]['Direction']\n",
    "\n",
    "predictions_new = result_new.predict(x_test)\n",
    "\n",
    "predictions_new_up_down = []\n",
    "for i in predictions_new:\n",
    "    if(i<0.5):\n",
    "        predictions_new_up_down.append(\"Up\")\n",
    "    if(i>0.5):\n",
    "        predictions_new_up_down.append(\"Down\")\n",
    "        \n",
    "# creating a confusion matrix of the data\n",
    "data_confusion_new = {'y_real_2005':y_test , 'y_pred_2005':predictions_new_up_down}\n",
    "\n",
    "df_confusion = pd.DataFrame(data_confusion_new, columns=['y_real_2005','y_pred_2005'])\n",
    "confusion_matrix = pd.crosstab(df_confusion['y_real_2005'], df_confusion['y_pred_2005'], rownames=['Actual'], colnames=['Predicted'])\n",
    "print (confusion_matrix)\n",
    "# print(y_test)\n",
    "# print(predictions_new_up_down)\n",
    "\n"
   ]
  },
  {
   "cell_type": "code",
   "execution_count": 9,
   "metadata": {},
   "outputs": [
    {
     "name": "stdout",
     "output_type": "stream",
     "text": [
      "Coeffecients:  [[-0.05555211 -0.04443425]]\n"
     ]
    }
   ],
   "source": [
    "# Linear Discriminant Analysis\n",
    "from sklearn.discriminant_analysis import LinearDiscriminantAnalysis \n",
    "lda_clf = LinearDiscriminantAnalysis(solver='lsqr',store_covariance=True)\n",
    "Y_train = pd.get_dummies(y_train).drop(columns='Down')\n",
    "X_train = x_train.drop(columns = ['Direction','Lag3','Lag4','Lag5','Volume','Today'])\n",
    "X_test = x_test.drop(columns = ['Direction','Lag3','Lag4','Lag5','Volume','Today'])\n",
    "Y_test = (pd.DataFrame(pd.get_dummies(y_test).drop(columns='Down'))).values.tolist()\n",
    "\n",
    "Y_test = [item for sublist in Y_test for item in sublist]\n",
    "\n",
    "\n",
    "model_lda = lda_clf.fit(X_train , Y_train.values.ravel())\n",
    "# print(X_train)\n",
    "prediction_lda = model_lda.predict(X_test)\n",
    "prediction_lda_df = pd.DataFrame(prediction_lda)\n",
    "print('Coeffecients: ',lda_clf.coef_)\n",
    "\n",
    "prediction_lda = prediction_lda.tolist()\n",
    "\n",
    "\n",
    "# print(Y_test)\n",
    "# print(prediction_lda)\n",
    "# print(prediction_lda_df)"
   ]
  },
  {
   "cell_type": "code",
   "execution_count": 19,
   "metadata": {
    "scrolled": false
   },
   "outputs": [
    {
     "name": "stdout",
     "output_type": "stream",
     "text": [
      "Predicted   0    1\n",
      "Actual            \n",
      "0          35   76\n",
      "1          35  106\n"
     ]
    }
   ],
   "source": [
    "data_confusion_lda = {'y_real_lda':Y_test , 'y_pred_lda':prediction_lda}\n",
    "# # print(data_confusion_lda)\n",
    "df_confusion_lda = pd.DataFrame(data_confusion_lda, columns=['y_real_lda','y_pred_lda'])\n",
    "# # print(df_confusion_lda)\n",
    "confusion_matrix = pd.crosstab(df_confusion_lda['y_real_lda'], df_confusion_lda['y_pred_lda'], rownames=['Actual'], colnames=['Predicted'])\n",
    "print (confusion_matrix)"
   ]
  },
  {
   "cell_type": "code",
   "execution_count": 17,
   "metadata": {},
   "outputs": [
    {
     "name": "stdout",
     "output_type": "stream",
     "text": [
      "Priors :  [0.49198397 0.50801603]\n",
      "Means :  [[ 0.04279022  0.03389409]\n",
      " [-0.03954635 -0.03132544]]\n"
     ]
    }
   ],
   "source": [
    "# Quadratic Discriminant Analysis\n",
    "from sklearn.discriminant_analysis import QuadraticDiscriminantAnalysis\n",
    "qda_clf = QuadraticDiscriminantAnalysis()\n",
    "model_qda = qda_clf.fit(X_train , Y_train.values.ravel())\n",
    "prediction_lda = model_lda.predict(X_test)\n",
    "# predicting using qda\n",
    "prediction_qda = model_qda.predict(X_test)\n",
    "prediction_qda_df = pd.DataFrame(prediction_qda)\n",
    "prediction_qda = prediction_qda.tolist()\n",
    "print('Priors : ', model_qda.priors_)\n",
    "print('Means : ', model_qda.means_)"
   ]
  },
  {
   "cell_type": "code",
   "execution_count": 21,
   "metadata": {},
   "outputs": [
    {
     "name": "stdout",
     "output_type": "stream",
     "text": [
      "Predicted   0    1\n",
      "Actual            \n",
      "0          30   81\n",
      "1          20  121\n"
     ]
    }
   ],
   "source": [
    "data_confusion_qda = {'y_real_qda':Y_test , 'y_pred_qda':prediction_qda}\n",
    "# # print(data_confusion_lda)\n",
    "df_confusion_qda = pd.DataFrame(data_confusion_qda, columns=['y_real_qda','y_pred_qda'])\n",
    "# # print(df_confusion_lda)\n",
    "confusion_matrix = pd.crosstab(df_confusion_qda['y_real_qda'], df_confusion_qda['y_pred_qda'], rownames=['Actual'], colnames=['Predicted'])\n",
    "print (confusion_matrix)"
   ]
  },
  {
   "cell_type": "code",
   "execution_count": 36,
   "metadata": {},
   "outputs": [
    {
     "name": "stdout",
     "output_type": "stream",
     "text": [
      "Predicted   0   1\n",
      "Actual           \n",
      "0          43  68\n",
      "1          58  83\n"
     ]
    }
   ],
   "source": [
    "# Implementing KNN using K=1\n",
    "from sklearn.neighbors import KNeighborsClassifier\n",
    "knn = KNeighborsClassifier(n_neighbors=1)\n",
    "model_knn = knn.fit(X_train , Y_train.values.ravel())\n",
    "prediction_knn = model_knn.predict(X_test)\n",
    "# confusion matrix for KNN\n",
    "data_confusion_knn = {'y_real_knn':Y_test , 'y_pred_knn':prediction_knn}\n",
    "df_confusion_knn = pd.DataFrame(data_confusion_knn, columns=['y_real_knn','y_pred_knn'])\n",
    "# # print(df_confusion_lda)\n",
    "confusion_matrix = pd.crosstab(df_confusion_knn['y_real_knn'], df_confusion_knn['y_pred_knn'], rownames=['Actual'], colnames=['Predicted'])\n",
    "print (confusion_matrix)"
   ]
  },
  {
   "cell_type": "code",
   "execution_count": 39,
   "metadata": {},
   "outputs": [
    {
     "name": "stdout",
     "output_type": "stream",
     "text": [
      "Predicted   0   1\n",
      "Actual           \n",
      "0          48  63\n",
      "1          55  86\n"
     ]
    }
   ],
   "source": [
    "# Implementing KNN using K=3\n",
    "from sklearn.neighbors import KNeighborsClassifier\n",
    "knn = KNeighborsClassifier(n_neighbors=3)\n",
    "model_knn3 = knn.fit(X_train , Y_train.values.ravel())\n",
    "prediction_knn3 = model_knn3.predict(X_test)\n",
    "# confusion matrix for KNN\n",
    "data_confusion_knn3 = {'y_real_knn':Y_test , 'y_pred_knn':prediction_knn3}\n",
    "df_confusion_knn3 = pd.DataFrame(data_confusion_knn3, columns=['y_real_knn','y_pred_knn'])\n",
    "# # print(df_confusion_lda)\n",
    "confusion_matrix = pd.crosstab(df_confusion_knn3['y_real_knn'], df_confusion_knn3['y_pred_knn'], rownames=['Actual'], colnames=['Predicted'])\n",
    "print (confusion_matrix)"
   ]
  },
  {
   "cell_type": "code",
   "execution_count": 96,
   "metadata": {},
   "outputs": [
    {
     "name": "stdout",
     "output_type": "stream",
     "text": [
      "Accuracy: 0.8911088911088911\n",
      "Predicted    0   1\n",
      "Actual            \n",
      "0          879  63\n",
      "1           46  13\n"
     ]
    }
   ],
   "source": [
    "# Applying KNN to Caravan dataset\n",
    "# from sklearn.preprocessing import scale\n",
    "from sklearn.preprocessing import StandardScaler\n",
    "scaler = StandardScaler()\n",
    "\n",
    "caravan_df = pd.read_csv('datasets/caravan.csv')\n",
    "x = caravan_df.iloc[: , 1:85]\n",
    "scaler.fit(x)\n",
    "x_train = x.iloc[1001:,:]\n",
    "y_train = caravan_df.iloc[1001: , 86:]\n",
    "x_test = x.iloc[0:1001 , :]\n",
    "y_test = caravan_df.iloc[0:1001 , 86:].values.tolist()\n",
    "\n",
    "y_test = [item for sublist in y_test for item in sublist]\n",
    "\n",
    "\n",
    "knn = KNeighborsClassifier(n_neighbors=1)\n",
    "model_knn_caravan = knn.fit(x_train , y_train.values.ravel())\n",
    "prediction_caravan = model_knn_caravan.predict(x_test)\n",
    "\n",
    "# finding accuracy of model\n",
    "from sklearn import metrics\n",
    "print(\"Accuracy:\",metrics.accuracy_score(y_test, prediction_caravan))\n",
    "\n",
    "data_confusion_caravan = {'y_real_caravan':y_test , 'y_pred_caravan':prediction_caravan}\n",
    "df_confusion_caravan = pd.DataFrame(data_confusion_caravan, columns=['y_real_caravan','y_pred_caravan'])\n",
    "confusion_matrix = pd.crosstab(df_confusion_caravan['y_real_caravan'], df_confusion_caravan['y_pred_caravan'], rownames=['Actual'], colnames=['Predicted'])\n",
    "print (confusion_matrix)\n"
   ]
  },
  {
   "cell_type": "code",
   "execution_count": null,
   "metadata": {},
   "outputs": [],
   "source": []
  }
 ],
 "metadata": {
  "kernelspec": {
   "display_name": "Python 3",
   "language": "python",
   "name": "python3"
  },
  "language_info": {
   "codemirror_mode": {
    "name": "ipython",
    "version": 3
   },
   "file_extension": ".py",
   "mimetype": "text/x-python",
   "name": "python",
   "nbconvert_exporter": "python",
   "pygments_lexer": "ipython3",
   "version": "3.8.5"
  }
 },
 "nbformat": 4,
 "nbformat_minor": 4
}
